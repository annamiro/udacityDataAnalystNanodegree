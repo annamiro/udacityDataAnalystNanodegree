{
 "cells": [
  {
   "cell_type": "markdown",
   "metadata": {},
   "source": [
    "\n",
    "# No showings appointments Data Analysis\n",
    "\n",
    "## Table of Contents\n",
    "<ul>\n",
    "<li><a href=\"#intro\">Introduction</a></li>\n",
    "<li><a href=\"#wrangling\">Data Wrangling</a></li>\n",
    "<li><a href=\"#eda\">Exploratory Data Analysis</a></li>\n",
    "<li><a href=\"#conclusions\">Conclusions</a></li>\n",
    "</ul>"
   ]
  },
  {
   "cell_type": "markdown",
   "metadata": {},
   "source": [
    "<a id='intro'></a>\n",
    "## Introduction\n",
    "\n",
    " This dataset collects information from 100k medical appointments in Brazil and is focused on the question of whether or not patients show up for their appointment. A number of characteristics about the patient are included in each row.\n",
    "\n",
    " | Column |Description |\n",
    " |:-----|:-----|\n",
    " |**'PatientId'** | Identification of a patient.|\n",
    " |**'AppointmentID'** |Identification of each appointment.|\n",
    " |**'Gender'** | Male or Female. |\n",
    " |**'ScheduledDay'** | tells us on what day the patient set up their appointment.|\n",
    " |**'AppointmentDay'** | The day of the actuall appointment, when they have to visit the doctor.|\n",
    " |**'Age'** | How old is the patient.|\n",
    " |**'Neighborhood'** | indicates the location of the hospital.|\n",
    " |**'Scholarship'** | indicates whether or not the patient is enrolled in Brasilian welcare program Bolsa Família.|\n",
    " |**'Hipertension'**|  True or False.|\n",
    " |**'Diabetes'** | True or False.|\n",
    " |**'Alcoholism'** | True or False.|\n",
    " |**'Handcap'** | True or False.|\n",
    " |**'SMS_received'** | messages sent to the patient.|\n",
    " |**'No-show'** | True or False; it says ‘No’ if the patient showed up to their appointment, and ‘Yes’ if they did not show up.|\n",
    "\n",
    " I would like to see what factors are important to predict someone will show up for their scheduled appointment.\n",
    "\n",
    "\n",
    "\n",
    "## Questions\n",
    "\n",
    "* Q1. Number of handicaps are related to no-show appointments?\n",
    "* Q2. How does the gender of a patient affect their likelihood to show or not show up for their appointment?\n",
    "* Q3. Is there a correlation between not receive a message and no-shown patients?\n",
    "* Q4. Is there a correlation between having a longer time between schedule and appointment day and the likelihood to not show?\n",
    "* Q5. To whom SMS were sent? Is there a correlation between pre booked time and SMS receivers?\n",
    "* Q6. Is there a correlation between the age and no-shown patients?\n"
   ]
  },
  {
   "cell_type": "markdown",
   "metadata": {},
   "source": [
    "### Importing packages"
   ]
  },
  {
   "cell_type": "code",
   "execution_count": 2,
   "metadata": {},
   "outputs": [],
   "source": [
    "import pandas as pd\n",
    "import numpy as np\n",
    "import matplotlib\n",
    "import matplotlib.pyplot as plt\n",
    "%matplotlib inline"
   ]
  },
  {
   "cell_type": "markdown",
   "metadata": {},
   "source": [
    "<a id='wrangling'></a>\n",
    "## Data Wrangling\n",
    "\n",
    "### General Properties"
   ]
  },
  {
   "cell_type": "code",
   "execution_count": 3,
   "metadata": {
    "scrolled": false
   },
   "outputs": [
    {
     "data": {
      "text/html": [
       "<div>\n",
       "<style scoped>\n",
       "    .dataframe tbody tr th:only-of-type {\n",
       "        vertical-align: middle;\n",
       "    }\n",
       "\n",
       "    .dataframe tbody tr th {\n",
       "        vertical-align: top;\n",
       "    }\n",
       "\n",
       "    .dataframe thead th {\n",
       "        text-align: right;\n",
       "    }\n",
       "</style>\n",
       "<table border=\"1\" class=\"dataframe\">\n",
       "  <thead>\n",
       "    <tr style=\"text-align: right;\">\n",
       "      <th></th>\n",
       "      <th>PatientId</th>\n",
       "      <th>AppointmentID</th>\n",
       "      <th>Gender</th>\n",
       "      <th>ScheduledDay</th>\n",
       "      <th>AppointmentDay</th>\n",
       "      <th>Age</th>\n",
       "      <th>Neighbourhood</th>\n",
       "      <th>Scholarship</th>\n",
       "      <th>Hipertension</th>\n",
       "      <th>Diabetes</th>\n",
       "      <th>Alcoholism</th>\n",
       "      <th>Handcap</th>\n",
       "      <th>SMS_received</th>\n",
       "      <th>No-show</th>\n",
       "    </tr>\n",
       "  </thead>\n",
       "  <tbody>\n",
       "    <tr>\n",
       "      <th>0</th>\n",
       "      <td>2.987250e+13</td>\n",
       "      <td>5642903</td>\n",
       "      <td>F</td>\n",
       "      <td>2016-04-29T18:38:08Z</td>\n",
       "      <td>2016-04-29T00:00:00Z</td>\n",
       "      <td>62</td>\n",
       "      <td>JARDIM DA PENHA</td>\n",
       "      <td>0</td>\n",
       "      <td>1</td>\n",
       "      <td>0</td>\n",
       "      <td>0</td>\n",
       "      <td>0</td>\n",
       "      <td>0</td>\n",
       "      <td>No</td>\n",
       "    </tr>\n",
       "    <tr>\n",
       "      <th>1</th>\n",
       "      <td>5.589978e+14</td>\n",
       "      <td>5642503</td>\n",
       "      <td>M</td>\n",
       "      <td>2016-04-29T16:08:27Z</td>\n",
       "      <td>2016-04-29T00:00:00Z</td>\n",
       "      <td>56</td>\n",
       "      <td>JARDIM DA PENHA</td>\n",
       "      <td>0</td>\n",
       "      <td>0</td>\n",
       "      <td>0</td>\n",
       "      <td>0</td>\n",
       "      <td>0</td>\n",
       "      <td>0</td>\n",
       "      <td>No</td>\n",
       "    </tr>\n",
       "    <tr>\n",
       "      <th>2</th>\n",
       "      <td>4.262962e+12</td>\n",
       "      <td>5642549</td>\n",
       "      <td>F</td>\n",
       "      <td>2016-04-29T16:19:04Z</td>\n",
       "      <td>2016-04-29T00:00:00Z</td>\n",
       "      <td>62</td>\n",
       "      <td>MATA DA PRAIA</td>\n",
       "      <td>0</td>\n",
       "      <td>0</td>\n",
       "      <td>0</td>\n",
       "      <td>0</td>\n",
       "      <td>0</td>\n",
       "      <td>0</td>\n",
       "      <td>No</td>\n",
       "    </tr>\n",
       "    <tr>\n",
       "      <th>3</th>\n",
       "      <td>8.679512e+11</td>\n",
       "      <td>5642828</td>\n",
       "      <td>F</td>\n",
       "      <td>2016-04-29T17:29:31Z</td>\n",
       "      <td>2016-04-29T00:00:00Z</td>\n",
       "      <td>8</td>\n",
       "      <td>PONTAL DE CAMBURI</td>\n",
       "      <td>0</td>\n",
       "      <td>0</td>\n",
       "      <td>0</td>\n",
       "      <td>0</td>\n",
       "      <td>0</td>\n",
       "      <td>0</td>\n",
       "      <td>No</td>\n",
       "    </tr>\n",
       "    <tr>\n",
       "      <th>4</th>\n",
       "      <td>8.841186e+12</td>\n",
       "      <td>5642494</td>\n",
       "      <td>F</td>\n",
       "      <td>2016-04-29T16:07:23Z</td>\n",
       "      <td>2016-04-29T00:00:00Z</td>\n",
       "      <td>56</td>\n",
       "      <td>JARDIM DA PENHA</td>\n",
       "      <td>0</td>\n",
       "      <td>1</td>\n",
       "      <td>1</td>\n",
       "      <td>0</td>\n",
       "      <td>0</td>\n",
       "      <td>0</td>\n",
       "      <td>No</td>\n",
       "    </tr>\n",
       "  </tbody>\n",
       "</table>\n",
       "</div>"
      ],
      "text/plain": [
       "      PatientId  AppointmentID Gender          ScheduledDay  \\\n",
       "0  2.987250e+13        5642903      F  2016-04-29T18:38:08Z   \n",
       "1  5.589978e+14        5642503      M  2016-04-29T16:08:27Z   \n",
       "2  4.262962e+12        5642549      F  2016-04-29T16:19:04Z   \n",
       "3  8.679512e+11        5642828      F  2016-04-29T17:29:31Z   \n",
       "4  8.841186e+12        5642494      F  2016-04-29T16:07:23Z   \n",
       "\n",
       "         AppointmentDay  Age      Neighbourhood  Scholarship  Hipertension  \\\n",
       "0  2016-04-29T00:00:00Z   62    JARDIM DA PENHA            0             1   \n",
       "1  2016-04-29T00:00:00Z   56    JARDIM DA PENHA            0             0   \n",
       "2  2016-04-29T00:00:00Z   62      MATA DA PRAIA            0             0   \n",
       "3  2016-04-29T00:00:00Z    8  PONTAL DE CAMBURI            0             0   \n",
       "4  2016-04-29T00:00:00Z   56    JARDIM DA PENHA            0             1   \n",
       "\n",
       "   Diabetes  Alcoholism  Handcap  SMS_received No-show  \n",
       "0         0           0        0             0      No  \n",
       "1         0           0        0             0      No  \n",
       "2         0           0        0             0      No  \n",
       "3         0           0        0             0      No  \n",
       "4         1           0        0             0      No  "
      ]
     },
     "execution_count": 3,
     "metadata": {},
     "output_type": "execute_result"
    }
   ],
   "source": [
    "df = pd.read_csv('noshowappointments-kagglev2-may-2016.csv')\n",
    "df.head()\n"
   ]
  },
  {
   "cell_type": "code",
   "execution_count": 153,
   "metadata": {
    "scrolled": true
   },
   "outputs": [
    {
     "name": "stdout",
     "output_type": "stream",
     "text": [
      "<class 'pandas.core.frame.DataFrame'>\n",
      "RangeIndex: 110527 entries, 0 to 110526\n",
      "Data columns (total 14 columns):\n",
      " #   Column          Non-Null Count   Dtype  \n",
      "---  ------          --------------   -----  \n",
      " 0   PatientId       110527 non-null  float64\n",
      " 1   AppointmentID   110527 non-null  int64  \n",
      " 2   Gender          110527 non-null  object \n",
      " 3   ScheduledDay    110527 non-null  object \n",
      " 4   AppointmentDay  110527 non-null  object \n",
      " 5   Age             110527 non-null  int64  \n",
      " 6   Neighbourhood   110527 non-null  object \n",
      " 7   Scholarship     110527 non-null  int64  \n",
      " 8   Hipertension    110527 non-null  int64  \n",
      " 9   Diabetes        110527 non-null  int64  \n",
      " 10  Alcoholism      110527 non-null  int64  \n",
      " 11  Handcap         110527 non-null  int64  \n",
      " 12  SMS_received    110527 non-null  int64  \n",
      " 13  No-show         110527 non-null  object \n",
      "dtypes: float64(1), int64(8), object(5)\n",
      "memory usage: 9.7+ MB\n"
     ]
    }
   ],
   "source": [
    "df.info()"
   ]
  },
  {
   "cell_type": "markdown",
   "metadata": {},
   "source": [
    " **What we can see as an overview of the data:**\n",
    " * There are 110.527 entries and 14 columns.\n",
    " * I'll rename column names to be more readable and in a consistent format.\n",
    " * Handcap should be renamed as Handicap for clarification. \n",
    " * I'll also convert PatientId to int.\n",
    " * ScheduledDay and AppointmentDay are not date formated, so will convert to date types.\n",
    " * No missing values, so we do not need to work with nulls. \n"
   ]
  },
  {
   "cell_type": "code",
   "execution_count": 4,
   "metadata": {
    "scrolled": true
   },
   "outputs": [
    {
     "data": {
      "text/html": [
       "<div>\n",
       "<style scoped>\n",
       "    .dataframe tbody tr th:only-of-type {\n",
       "        vertical-align: middle;\n",
       "    }\n",
       "\n",
       "    .dataframe tbody tr th {\n",
       "        vertical-align: top;\n",
       "    }\n",
       "\n",
       "    .dataframe thead th {\n",
       "        text-align: right;\n",
       "    }\n",
       "</style>\n",
       "<table border=\"1\" class=\"dataframe\">\n",
       "  <thead>\n",
       "    <tr style=\"text-align: right;\">\n",
       "      <th></th>\n",
       "      <th>PatientId</th>\n",
       "      <th>AppointmentID</th>\n",
       "      <th>Gender</th>\n",
       "      <th>ScheduledDay</th>\n",
       "      <th>AppointmentDay</th>\n",
       "      <th>Age</th>\n",
       "      <th>Neighbourhood</th>\n",
       "      <th>Scholarship</th>\n",
       "      <th>Hipertension</th>\n",
       "      <th>Diabetes</th>\n",
       "      <th>Alcoholism</th>\n",
       "      <th>Handcap</th>\n",
       "      <th>SMS_received</th>\n",
       "      <th>No-show</th>\n",
       "    </tr>\n",
       "  </thead>\n",
       "  <tbody>\n",
       "    <tr>\n",
       "      <th>0</th>\n",
       "      <td>29872499824296</td>\n",
       "      <td>5642903</td>\n",
       "      <td>F</td>\n",
       "      <td>2016-04-29</td>\n",
       "      <td>2016-04-29</td>\n",
       "      <td>62</td>\n",
       "      <td>JARDIM DA PENHA</td>\n",
       "      <td>0</td>\n",
       "      <td>1</td>\n",
       "      <td>0</td>\n",
       "      <td>0</td>\n",
       "      <td>0</td>\n",
       "      <td>0</td>\n",
       "      <td>No</td>\n",
       "    </tr>\n",
       "    <tr>\n",
       "      <th>1</th>\n",
       "      <td>558997776694438</td>\n",
       "      <td>5642503</td>\n",
       "      <td>M</td>\n",
       "      <td>2016-04-29</td>\n",
       "      <td>2016-04-29</td>\n",
       "      <td>56</td>\n",
       "      <td>JARDIM DA PENHA</td>\n",
       "      <td>0</td>\n",
       "      <td>0</td>\n",
       "      <td>0</td>\n",
       "      <td>0</td>\n",
       "      <td>0</td>\n",
       "      <td>0</td>\n",
       "      <td>No</td>\n",
       "    </tr>\n",
       "    <tr>\n",
       "      <th>2</th>\n",
       "      <td>4262962299951</td>\n",
       "      <td>5642549</td>\n",
       "      <td>F</td>\n",
       "      <td>2016-04-29</td>\n",
       "      <td>2016-04-29</td>\n",
       "      <td>62</td>\n",
       "      <td>MATA DA PRAIA</td>\n",
       "      <td>0</td>\n",
       "      <td>0</td>\n",
       "      <td>0</td>\n",
       "      <td>0</td>\n",
       "      <td>0</td>\n",
       "      <td>0</td>\n",
       "      <td>No</td>\n",
       "    </tr>\n",
       "    <tr>\n",
       "      <th>3</th>\n",
       "      <td>867951213174</td>\n",
       "      <td>5642828</td>\n",
       "      <td>F</td>\n",
       "      <td>2016-04-29</td>\n",
       "      <td>2016-04-29</td>\n",
       "      <td>8</td>\n",
       "      <td>PONTAL DE CAMBURI</td>\n",
       "      <td>0</td>\n",
       "      <td>0</td>\n",
       "      <td>0</td>\n",
       "      <td>0</td>\n",
       "      <td>0</td>\n",
       "      <td>0</td>\n",
       "      <td>No</td>\n",
       "    </tr>\n",
       "    <tr>\n",
       "      <th>4</th>\n",
       "      <td>8841186448183</td>\n",
       "      <td>5642494</td>\n",
       "      <td>F</td>\n",
       "      <td>2016-04-29</td>\n",
       "      <td>2016-04-29</td>\n",
       "      <td>56</td>\n",
       "      <td>JARDIM DA PENHA</td>\n",
       "      <td>0</td>\n",
       "      <td>1</td>\n",
       "      <td>1</td>\n",
       "      <td>0</td>\n",
       "      <td>0</td>\n",
       "      <td>0</td>\n",
       "      <td>No</td>\n",
       "    </tr>\n",
       "  </tbody>\n",
       "</table>\n",
       "</div>"
      ],
      "text/plain": [
       "         PatientId  AppointmentID Gender ScheduledDay AppointmentDay  Age  \\\n",
       "0   29872499824296        5642903      F   2016-04-29     2016-04-29   62   \n",
       "1  558997776694438        5642503      M   2016-04-29     2016-04-29   56   \n",
       "2    4262962299951        5642549      F   2016-04-29     2016-04-29   62   \n",
       "3     867951213174        5642828      F   2016-04-29     2016-04-29    8   \n",
       "4    8841186448183        5642494      F   2016-04-29     2016-04-29   56   \n",
       "\n",
       "       Neighbourhood  Scholarship  Hipertension  Diabetes  Alcoholism  \\\n",
       "0    JARDIM DA PENHA            0             1         0           0   \n",
       "1    JARDIM DA PENHA            0             0         0           0   \n",
       "2      MATA DA PRAIA            0             0         0           0   \n",
       "3  PONTAL DE CAMBURI            0             0         0           0   \n",
       "4    JARDIM DA PENHA            0             1         1           0   \n",
       "\n",
       "   Handcap  SMS_received No-show  \n",
       "0        0             0      No  \n",
       "1        0             0      No  \n",
       "2        0             0      No  \n",
       "3        0             0      No  \n",
       "4        0             0      No  "
      ]
     },
     "execution_count": 4,
     "metadata": {},
     "output_type": "execute_result"
    }
   ],
   "source": [
    "# Convert to date types\n",
    "df.PatientId = df.PatientId.astype('int64')\n",
    "df['ScheduledDay'] = pd.to_datetime(df['ScheduledDay']).dt.date.astype('datetime64[ns]')\n",
    "df['AppointmentDay'] = pd.to_datetime(df['AppointmentDay']).dt.date.astype('datetime64[ns]')\n",
    "df.head()"
   ]
  },
  {
   "cell_type": "code",
   "execution_count": 5,
   "metadata": {},
   "outputs": [
    {
     "name": "stdout",
     "output_type": "stream",
     "text": [
      "<class 'pandas.core.frame.DataFrame'>\n",
      "RangeIndex: 110527 entries, 0 to 110526\n",
      "Data columns (total 14 columns):\n",
      " #   Column           Non-Null Count   Dtype         \n",
      "---  ------           --------------   -----         \n",
      " 0   patient_ID       110527 non-null  int64         \n",
      " 1   appointment_ID   110527 non-null  int64         \n",
      " 2   gender           110527 non-null  object        \n",
      " 3   scheduled_day    110527 non-null  datetime64[ns]\n",
      " 4   appointment_day  110527 non-null  datetime64[ns]\n",
      " 5   age              110527 non-null  int64         \n",
      " 6   neighbourhood    110527 non-null  object        \n",
      " 7   scholarship      110527 non-null  int64         \n",
      " 8   hypertension     110527 non-null  int64         \n",
      " 9   diabetes         110527 non-null  int64         \n",
      " 10  alcoholism       110527 non-null  int64         \n",
      " 11  handicap         110527 non-null  int64         \n",
      " 12  sms_received     110527 non-null  int64         \n",
      " 13  no_show          110527 non-null  object        \n",
      "dtypes: datetime64[ns](2), int64(9), object(3)\n",
      "memory usage: 10.5+ MB\n"
     ]
    }
   ],
   "source": [
    "# Rename column names\n",
    "labels = ['patient_ID', 'appointment_ID', 'gender', 'scheduled_day', 'appointment_day','age',\n",
    "          'neighbourhood', 'scholarship', 'hypertension','diabetes', 'alcoholism',\n",
    "          'handicap', 'sms_received', 'no_show']\n",
    "df.columns = labels\n",
    "df.info()"
   ]
  },
  {
   "cell_type": "code",
   "execution_count": 144,
   "metadata": {
    "scrolled": true
   },
   "outputs": [
    {
     "data": {
      "text/plain": [
       "0"
      ]
     },
     "execution_count": 144,
     "metadata": {},
     "output_type": "execute_result"
    }
   ],
   "source": [
    "df.duplicated().sum()"
   ]
  },
  {
   "cell_type": "markdown",
   "metadata": {},
   "source": [
    " No duplicated data"
   ]
  },
  {
   "cell_type": "code",
   "execution_count": 6,
   "metadata": {},
   "outputs": [
    {
     "data": {
      "text/plain": [
       "Show       88208\n",
       "No Show    22319\n",
       "Name: no_show, dtype: int64"
      ]
     },
     "execution_count": 6,
     "metadata": {},
     "output_type": "execute_result"
    }
   ],
   "source": [
    "#For clarification I will change the type to categorical and rename the categories\n",
    "df.no_show = df.no_show.astype('category')\n",
    "df.no_show.cat.rename_categories({'No':'Show','Yes':'No Show'}, inplace = True)\n",
    "df.no_show.value_counts()"
   ]
  },
  {
   "cell_type": "markdown",
   "metadata": {},
   "source": [
    "### Analyze data values"
   ]
  },
  {
   "cell_type": "code",
   "execution_count": 160,
   "metadata": {},
   "outputs": [
    {
     "data": {
      "text/html": [
       "<div>\n",
       "<style scoped>\n",
       "    .dataframe tbody tr th:only-of-type {\n",
       "        vertical-align: middle;\n",
       "    }\n",
       "\n",
       "    .dataframe tbody tr th {\n",
       "        vertical-align: top;\n",
       "    }\n",
       "\n",
       "    .dataframe thead th {\n",
       "        text-align: right;\n",
       "    }\n",
       "</style>\n",
       "<table border=\"1\" class=\"dataframe\">\n",
       "  <thead>\n",
       "    <tr style=\"text-align: right;\">\n",
       "      <th></th>\n",
       "      <th>patient_ID</th>\n",
       "      <th>appointment_ID</th>\n",
       "      <th>age</th>\n",
       "      <th>scholarship</th>\n",
       "      <th>hypertension</th>\n",
       "      <th>diabetes</th>\n",
       "      <th>alcoholism</th>\n",
       "      <th>handicap</th>\n",
       "      <th>sms_received</th>\n",
       "    </tr>\n",
       "  </thead>\n",
       "  <tbody>\n",
       "    <tr>\n",
       "      <th>count</th>\n",
       "      <td>1.105270e+05</td>\n",
       "      <td>1.105270e+05</td>\n",
       "      <td>110527.000000</td>\n",
       "      <td>110527.000000</td>\n",
       "      <td>110527.000000</td>\n",
       "      <td>110527.000000</td>\n",
       "      <td>110527.000000</td>\n",
       "      <td>110527.000000</td>\n",
       "      <td>110527.000000</td>\n",
       "    </tr>\n",
       "    <tr>\n",
       "      <th>mean</th>\n",
       "      <td>1.474963e+14</td>\n",
       "      <td>5.675305e+06</td>\n",
       "      <td>37.088874</td>\n",
       "      <td>0.098266</td>\n",
       "      <td>0.197246</td>\n",
       "      <td>0.071865</td>\n",
       "      <td>0.030400</td>\n",
       "      <td>0.022248</td>\n",
       "      <td>0.321026</td>\n",
       "    </tr>\n",
       "    <tr>\n",
       "      <th>std</th>\n",
       "      <td>2.560949e+14</td>\n",
       "      <td>7.129575e+04</td>\n",
       "      <td>23.110205</td>\n",
       "      <td>0.297675</td>\n",
       "      <td>0.397921</td>\n",
       "      <td>0.258265</td>\n",
       "      <td>0.171686</td>\n",
       "      <td>0.161543</td>\n",
       "      <td>0.466873</td>\n",
       "    </tr>\n",
       "    <tr>\n",
       "      <th>min</th>\n",
       "      <td>3.921700e+04</td>\n",
       "      <td>5.030230e+06</td>\n",
       "      <td>-1.000000</td>\n",
       "      <td>0.000000</td>\n",
       "      <td>0.000000</td>\n",
       "      <td>0.000000</td>\n",
       "      <td>0.000000</td>\n",
       "      <td>0.000000</td>\n",
       "      <td>0.000000</td>\n",
       "    </tr>\n",
       "    <tr>\n",
       "      <th>25%</th>\n",
       "      <td>4.172614e+12</td>\n",
       "      <td>5.640286e+06</td>\n",
       "      <td>18.000000</td>\n",
       "      <td>0.000000</td>\n",
       "      <td>0.000000</td>\n",
       "      <td>0.000000</td>\n",
       "      <td>0.000000</td>\n",
       "      <td>0.000000</td>\n",
       "      <td>0.000000</td>\n",
       "    </tr>\n",
       "    <tr>\n",
       "      <th>50%</th>\n",
       "      <td>3.173184e+13</td>\n",
       "      <td>5.680573e+06</td>\n",
       "      <td>37.000000</td>\n",
       "      <td>0.000000</td>\n",
       "      <td>0.000000</td>\n",
       "      <td>0.000000</td>\n",
       "      <td>0.000000</td>\n",
       "      <td>0.000000</td>\n",
       "      <td>0.000000</td>\n",
       "    </tr>\n",
       "    <tr>\n",
       "      <th>75%</th>\n",
       "      <td>9.439172e+13</td>\n",
       "      <td>5.725524e+06</td>\n",
       "      <td>55.000000</td>\n",
       "      <td>0.000000</td>\n",
       "      <td>0.000000</td>\n",
       "      <td>0.000000</td>\n",
       "      <td>0.000000</td>\n",
       "      <td>0.000000</td>\n",
       "      <td>1.000000</td>\n",
       "    </tr>\n",
       "    <tr>\n",
       "      <th>max</th>\n",
       "      <td>9.999816e+14</td>\n",
       "      <td>5.790484e+06</td>\n",
       "      <td>115.000000</td>\n",
       "      <td>1.000000</td>\n",
       "      <td>1.000000</td>\n",
       "      <td>1.000000</td>\n",
       "      <td>1.000000</td>\n",
       "      <td>4.000000</td>\n",
       "      <td>1.000000</td>\n",
       "    </tr>\n",
       "  </tbody>\n",
       "</table>\n",
       "</div>"
      ],
      "text/plain": [
       "         patient_ID  appointment_ID            age    scholarship  \\\n",
       "count  1.105270e+05    1.105270e+05  110527.000000  110527.000000   \n",
       "mean   1.474963e+14    5.675305e+06      37.088874       0.098266   \n",
       "std    2.560949e+14    7.129575e+04      23.110205       0.297675   \n",
       "min    3.921700e+04    5.030230e+06      -1.000000       0.000000   \n",
       "25%    4.172614e+12    5.640286e+06      18.000000       0.000000   \n",
       "50%    3.173184e+13    5.680573e+06      37.000000       0.000000   \n",
       "75%    9.439172e+13    5.725524e+06      55.000000       0.000000   \n",
       "max    9.999816e+14    5.790484e+06     115.000000       1.000000   \n",
       "\n",
       "        hypertension       diabetes     alcoholism       handicap  \\\n",
       "count  110527.000000  110527.000000  110527.000000  110527.000000   \n",
       "mean        0.197246       0.071865       0.030400       0.022248   \n",
       "std         0.397921       0.258265       0.171686       0.161543   \n",
       "min         0.000000       0.000000       0.000000       0.000000   \n",
       "25%         0.000000       0.000000       0.000000       0.000000   \n",
       "50%         0.000000       0.000000       0.000000       0.000000   \n",
       "75%         0.000000       0.000000       0.000000       0.000000   \n",
       "max         1.000000       1.000000       1.000000       4.000000   \n",
       "\n",
       "        sms_received  \n",
       "count  110527.000000  \n",
       "mean        0.321026  \n",
       "std         0.466873  \n",
       "min         0.000000  \n",
       "25%         0.000000  \n",
       "50%         0.000000  \n",
       "75%         1.000000  \n",
       "max         1.000000  "
      ]
     },
     "execution_count": 160,
     "metadata": {},
     "output_type": "execute_result"
    }
   ],
   "source": [
    "df.describe()"
   ]
  },
  {
   "cell_type": "markdown",
   "metadata": {},
   "source": [
    "As we can see above \n",
    "* The Age column may have incorrect values\n",
    "* The Handicap column has values from 0 to 4, while it says is a boolean data type"
   ]
  },
  {
   "cell_type": "code",
   "execution_count": 7,
   "metadata": {
    "scrolled": true
   },
   "outputs": [
    {
     "data": {
      "text/plain": [
       " 0      3539\n",
       " 1      2273\n",
       " 52     1746\n",
       " 49     1652\n",
       " 53     1651\n",
       "        ... \n",
       " 115       5\n",
       " 100       4\n",
       " 102       2\n",
       " 99        1\n",
       "-1         1\n",
       "Name: age, Length: 104, dtype: int64"
      ]
     },
     "execution_count": 7,
     "metadata": {},
     "output_type": "execute_result"
    }
   ],
   "source": [
    "##Evaluate Age values\n",
    "df.age.value_counts()"
   ]
  },
  {
   "cell_type": "markdown",
   "metadata": {},
   "source": [
    "There is just 1 person with Age = -1, we will drop it"
   ]
  },
  {
   "cell_type": "code",
   "execution_count": 7,
   "metadata": {},
   "outputs": [],
   "source": [
    "##Drop negative ages\n",
    "df.drop(df.query('age == -1').index, inplace = True)"
   ]
  },
  {
   "cell_type": "code",
   "execution_count": 164,
   "metadata": {
    "scrolled": true
   },
   "outputs": [
    {
     "data": {
      "text/plain": [
       "count    110526.000000\n",
       "mean         37.089219\n",
       "std          23.110026\n",
       "min           0.000000\n",
       "25%          18.000000\n",
       "50%          37.000000\n",
       "75%          55.000000\n",
       "max         115.000000\n",
       "Name: age, dtype: float64"
      ]
     },
     "execution_count": 164,
     "metadata": {},
     "output_type": "execute_result"
    }
   ],
   "source": [
    "#Check we drop it correctly\n",
    "df.age.describe()"
   ]
  },
  {
   "cell_type": "code",
   "execution_count": 165,
   "metadata": {},
   "outputs": [
    {
     "data": {
      "text/plain": [
       "110526"
      ]
     },
     "execution_count": 165,
     "metadata": {},
     "output_type": "execute_result"
    }
   ],
   "source": [
    "## Analyze if there are duplicade appointments\n",
    "df.appointment_ID.nunique()"
   ]
  },
  {
   "cell_type": "code",
   "execution_count": 9,
   "metadata": {
    "scrolled": false
   },
   "outputs": [
    {
     "data": {
      "text/plain": [
       "0    108285\n",
       "1      2042\n",
       "2       183\n",
       "3        13\n",
       "4         3\n",
       "Name: handicap, dtype: int64"
      ]
     },
     "execution_count": 9,
     "metadata": {},
     "output_type": "execute_result"
    }
   ],
   "source": [
    "# Analyze Handicap values\n",
    "df.handicap.value_counts()"
   ]
  },
  {
   "cell_type": "code",
   "execution_count": 10,
   "metadata": {},
   "outputs": [
    {
     "data": {
      "text/plain": [
       "0    0.979724\n",
       "1    0.018475\n",
       "2    0.001656\n",
       "3    0.000118\n",
       "4    0.000027\n",
       "Name: handicap, dtype: float64"
      ]
     },
     "execution_count": 10,
     "metadata": {},
     "output_type": "execute_result"
    }
   ],
   "source": [
    "df.handicap.value_counts(normalize = True)"
   ]
  },
  {
   "cell_type": "markdown",
   "metadata": {},
   "source": [
    "**Handicap** is not a Boolean field, with some research in Kaggle I found that it refers to the number of disabilities from the patient or the type of disability."
   ]
  },
  {
   "cell_type": "markdown",
   "metadata": {},
   "source": [
    "I will now calculate the **delta time** between ScheduledDay and AppointmentDay, and create a new column to store the difference."
   ]
  },
  {
   "cell_type": "code",
   "execution_count": 8,
   "metadata": {
    "scrolled": false
   },
   "outputs": [
    {
     "data": {
      "text/html": [
       "<div>\n",
       "<style scoped>\n",
       "    .dataframe tbody tr th:only-of-type {\n",
       "        vertical-align: middle;\n",
       "    }\n",
       "\n",
       "    .dataframe tbody tr th {\n",
       "        vertical-align: top;\n",
       "    }\n",
       "\n",
       "    .dataframe thead th {\n",
       "        text-align: right;\n",
       "    }\n",
       "</style>\n",
       "<table border=\"1\" class=\"dataframe\">\n",
       "  <thead>\n",
       "    <tr style=\"text-align: right;\">\n",
       "      <th></th>\n",
       "      <th>scheduled_day</th>\n",
       "      <th>appointment_day</th>\n",
       "      <th>delta_time</th>\n",
       "    </tr>\n",
       "  </thead>\n",
       "  <tbody>\n",
       "    <tr>\n",
       "      <th>27033</th>\n",
       "      <td>2016-05-10</td>\n",
       "      <td>2016-05-09</td>\n",
       "      <td>-1</td>\n",
       "    </tr>\n",
       "    <tr>\n",
       "      <th>55226</th>\n",
       "      <td>2016-05-18</td>\n",
       "      <td>2016-05-17</td>\n",
       "      <td>-1</td>\n",
       "    </tr>\n",
       "    <tr>\n",
       "      <th>64175</th>\n",
       "      <td>2016-05-05</td>\n",
       "      <td>2016-05-04</td>\n",
       "      <td>-1</td>\n",
       "    </tr>\n",
       "    <tr>\n",
       "      <th>71533</th>\n",
       "      <td>2016-05-11</td>\n",
       "      <td>2016-05-05</td>\n",
       "      <td>-6</td>\n",
       "    </tr>\n",
       "    <tr>\n",
       "      <th>72362</th>\n",
       "      <td>2016-05-04</td>\n",
       "      <td>2016-05-03</td>\n",
       "      <td>-1</td>\n",
       "    </tr>\n",
       "  </tbody>\n",
       "</table>\n",
       "</div>"
      ],
      "text/plain": [
       "      scheduled_day appointment_day  delta_time\n",
       "27033    2016-05-10      2016-05-09          -1\n",
       "55226    2016-05-18      2016-05-17          -1\n",
       "64175    2016-05-05      2016-05-04          -1\n",
       "71533    2016-05-11      2016-05-05          -6\n",
       "72362    2016-05-04      2016-05-03          -1"
      ]
     },
     "execution_count": 8,
     "metadata": {},
     "output_type": "execute_result"
    }
   ],
   "source": [
    "df['delta_time'] = (df.appointment_day - df.scheduled_day).dt.days\n",
    "df.query('delta_time < 0')[['scheduled_day','appointment_day', 'delta_time']]\n"
   ]
  },
  {
   "cell_type": "markdown",
   "metadata": {},
   "source": [
    "5 appointment reservations has been scheduled after the appointment day, that can not be done, so I will remove this data."
   ]
  },
  {
   "cell_type": "code",
   "execution_count": 9,
   "metadata": {},
   "outputs": [
    {
     "name": "stdout",
     "output_type": "stream",
     "text": [
      "<class 'pandas.core.frame.DataFrame'>\n",
      "Int64Index: 110521 entries, 0 to 110526\n",
      "Data columns (total 15 columns):\n",
      " #   Column           Non-Null Count   Dtype         \n",
      "---  ------           --------------   -----         \n",
      " 0   patient_ID       110521 non-null  int64         \n",
      " 1   appointment_ID   110521 non-null  int64         \n",
      " 2   gender           110521 non-null  object        \n",
      " 3   scheduled_day    110521 non-null  datetime64[ns]\n",
      " 4   appointment_day  110521 non-null  datetime64[ns]\n",
      " 5   age              110521 non-null  int64         \n",
      " 6   neighbourhood    110521 non-null  object        \n",
      " 7   scholarship      110521 non-null  int64         \n",
      " 8   hypertension     110521 non-null  int64         \n",
      " 9   diabetes         110521 non-null  int64         \n",
      " 10  alcoholism       110521 non-null  int64         \n",
      " 11  handicap         110521 non-null  int64         \n",
      " 12  sms_received     110521 non-null  int64         \n",
      " 13  no_show          110521 non-null  category      \n",
      " 14  delta_time       110521 non-null  int64         \n",
      "dtypes: category(1), datetime64[ns](2), int64(10), object(2)\n",
      "memory usage: 11.9+ MB\n"
     ]
    }
   ],
   "source": [
    "df = df.query('delta_time >= 0')\n",
    "df.info()"
   ]
  },
  {
   "cell_type": "markdown",
   "metadata": {},
   "source": [
    "\n",
    "## Assessing and cleaning Results:\n",
    "\n",
    " * There are 110.527 entries and 14 columns.\n",
    " * I'll rename column names to be more readable and in a consistent format.\n",
    " * Handcap should be renamed as Handicap for clarification, in addition, values are not a boolean, with some research I found that it refers to the number of disabilities from the patient.\n",
    " * I'll also convert PatientId to int.\n",
    " * ScheduledDay and AppointmentDay are not date formated, so will convert to date types.\n",
    " * No missing values, so we do not need to work with nulls. \n",
    " * There were no duplicated values in the dataset.\n",
    " * The Age column had incorrect values, we dropped the row that had Age equal to one, and deleted some outliers.\n",
    " * There were some appointments scheduled after the appointment date, so I removed this data.\n",
    "\n",
    "\n",
    "\n"
   ]
  },
  {
   "cell_type": "markdown",
   "metadata": {},
   "source": [
    "<a id='eda'></a>\n",
    "## Exploratory Data Analysis\n",
    "\n"
   ]
  },
  {
   "cell_type": "code",
   "execution_count": 24,
   "metadata": {
    "scrolled": true
   },
   "outputs": [
    {
     "data": {
      "text/plain": [
       "Text(0, 0.5, 'Percentage of the appointments')"
      ]
     },
     "execution_count": 24,
     "metadata": {},
     "output_type": "execute_result"
    },
    {
     "data": {
      "image/png": "[encoded data removed]",
      "text/plain": [
       "<Figure size 432x288 with 1 Axes>"
      ]
     },
     "metadata": {
      "needs_background": "light"
     },
     "output_type": "display_data"
    }
   ],
   "source": [
    "df.no_show.value_counts(normalize = True).plot(kind='bar')\n",
    "plt.title(\"The percentage of show-up in the database\")\n",
    "plt.xlabel(\"Shows\")\n",
    "plt.ylabel(\"Percentage of the appointments\")"
   ]
  },
  {
   "cell_type": "markdown",
   "metadata": {},
   "source": [
    "Almost 80% of the Appointments have showed up , while a 20% did not."
   ]
  },
  {
   "cell_type": "markdown",
   "metadata": {},
   "source": [
    "\n",
    "###  Q1. Number of handicaps are related to no-show appointments?"
   ]
  },
  {
   "cell_type": "code",
   "execution_count": 324,
   "metadata": {},
   "outputs": [
    {
     "data": {
      "text/plain": [
       "0    0.979741\n",
       "1    0.018458\n",
       "2    0.001656\n",
       "3    0.000118\n",
       "4    0.000027\n",
       "Name: handicap, dtype: float64"
      ]
     },
     "execution_count": 324,
     "metadata": {},
     "output_type": "execute_result"
    }
   ],
   "source": [
    "df.handicap.value_counts(normalize = True)"
   ]
  },
  {
   "cell_type": "markdown",
   "metadata": {},
   "source": [
    "I am going to make two different assumptions:\n",
    "* one if Handicaps is the number of disabilities\n",
    "* second handicaps is the type of disability. "
   ]
  },
  {
   "cell_type": "code",
   "execution_count": 11,
   "metadata": {
    "scrolled": true
   },
   "outputs": [
    {
     "data": {
      "text/plain": [
       "Text(0, 0.5, 'Percentage of Shows')"
      ]
     },
     "execution_count": 11,
     "metadata": {},
     "output_type": "execute_result"
    },
    {
     "data": {
      "image/png": "[encoded data removed]",
      "text/plain": [
       "<Figure size 432x288 with 1 Axes>"
      ]
     },
     "metadata": {
      "needs_background": "light"
     },
     "output_type": "display_data"
    }
   ],
   "source": [
    "\n",
    "def percentage_plot(counts, groupby_level, graph_type, colors):\n",
    "    percent = (counts / counts.groupby(level=groupby_level).sum() * 100).unstack()\n",
    "    return percent.plot(kind = graph_type, color = colors, alpha = .7)\n",
    "\n",
    "colors = ('green', 'red')\n",
    "counts = df.groupby('handicap')['no_show'].value_counts()\n",
    "percentage_plot(counts, 0, 'bar', colors)\n",
    "\n",
    "plt.legend()\n",
    "plt.title(\"The percentage of Show-up by number of disabilities\")\n",
    "plt.xlabel(\"Number of disabilities\")\n",
    "plt.ylabel(\"Percentage of Shows\")"
   ]
  },
  {
   "cell_type": "markdown",
   "metadata": {},
   "source": [
    "**Conclusions**\n",
    "\n",
    "- 98% of the pacients do not have any disability, there is not enought data to take decisions.\n",
    "\n",
    "Depending on the data definition:\n",
    "- Pacients with more than 2 disabilities have a greater tendency to no-show\n",
    "- Pacients with disability 4 tend to no show more often than other type of patients, but there are just 3 cases in our dataset, so we are not able to take conclusions. "
   ]
  },
  {
   "cell_type": "markdown",
   "metadata": {},
   "source": [
    "### Q2. How does the gender of a patient affect their likelihood to show or not show up for their appointment?"
   ]
  },
  {
   "cell_type": "code",
   "execution_count": 190,
   "metadata": {
    "scrolled": false
   },
   "outputs": [
    {
     "data": {
      "text/plain": [
       "F    0.649976\n",
       "M    0.350024\n",
       "Name: gender, dtype: float64"
      ]
     },
     "execution_count": 190,
     "metadata": {},
     "output_type": "execute_result"
    }
   ],
   "source": [
    "df.gender.value_counts(normalize = True)"
   ]
  },
  {
   "cell_type": "code",
   "execution_count": 21,
   "metadata": {},
   "outputs": [
    {
     "data": {
      "text/plain": [
       "F    71836\n",
       "M    38685\n",
       "Name: gender, dtype: int64"
      ]
     },
     "execution_count": 21,
     "metadata": {},
     "output_type": "execute_result"
    }
   ],
   "source": [
    "df.gender.value_counts()"
   ]
  },
  {
   "cell_type": "markdown",
   "metadata": {},
   "source": [
    "It is clear that there are much more females making appointments than males.\n",
    "The numbers above correspond to the number of appointments , let's take a look into it, and see by number of patients.\n",
    "One patientId can book different appointments (appointmentID)"
   ]
  },
  {
   "cell_type": "code",
   "execution_count": 12,
   "metadata": {
    "scrolled": true
   },
   "outputs": [
    {
     "data": {
      "text/html": [
       "<div>\n",
       "<style scoped>\n",
       "    .dataframe tbody tr th:only-of-type {\n",
       "        vertical-align: middle;\n",
       "    }\n",
       "\n",
       "    .dataframe tbody tr th {\n",
       "        vertical-align: top;\n",
       "    }\n",
       "\n",
       "    .dataframe thead th {\n",
       "        text-align: right;\n",
       "    }\n",
       "</style>\n",
       "<table border=\"1\" class=\"dataframe\">\n",
       "  <thead>\n",
       "    <tr style=\"text-align: right;\">\n",
       "      <th></th>\n",
       "      <th>patient_ID</th>\n",
       "      <th>gender</th>\n",
       "      <th>count</th>\n",
       "    </tr>\n",
       "  </thead>\n",
       "  <tbody>\n",
       "    <tr>\n",
       "      <th>0</th>\n",
       "      <td>39217</td>\n",
       "      <td>F</td>\n",
       "      <td>1</td>\n",
       "    </tr>\n",
       "    <tr>\n",
       "      <th>1</th>\n",
       "      <td>43741</td>\n",
       "      <td>M</td>\n",
       "      <td>1</td>\n",
       "    </tr>\n",
       "    <tr>\n",
       "      <th>2</th>\n",
       "      <td>93779</td>\n",
       "      <td>F</td>\n",
       "      <td>1</td>\n",
       "    </tr>\n",
       "    <tr>\n",
       "      <th>3</th>\n",
       "      <td>141724</td>\n",
       "      <td>M</td>\n",
       "      <td>1</td>\n",
       "    </tr>\n",
       "    <tr>\n",
       "      <th>4</th>\n",
       "      <td>537615</td>\n",
       "      <td>F</td>\n",
       "      <td>1</td>\n",
       "    </tr>\n",
       "  </tbody>\n",
       "</table>\n",
       "</div>"
      ],
      "text/plain": [
       "   patient_ID gender  count\n",
       "0       39217      F      1\n",
       "1       43741      M      1\n",
       "2       93779      F      1\n",
       "3      141724      M      1\n",
       "4      537615      F      1"
      ]
     },
     "execution_count": 12,
     "metadata": {},
     "output_type": "execute_result"
    }
   ],
   "source": [
    "df_patient = df.groupby(['patient_ID','gender']).size().reset_index(name='count')\n",
    "df_patient.head()"
   ]
  },
  {
   "cell_type": "code",
   "execution_count": 23,
   "metadata": {
    "scrolled": true
   },
   "outputs": [
    {
     "data": {
      "text/plain": [
       "Text(0, 0.5, 'Percentage of appointments')"
      ]
     },
     "execution_count": 23,
     "metadata": {},
     "output_type": "execute_result"
    },
    {
     "data": {
      "image/png": "[encoded data removed]",
      "text/plain": [
       "<Figure size 432x288 with 1 Axes>"
      ]
     },
     "metadata": {
      "needs_background": "light"
     },
     "output_type": "display_data"
    }
   ],
   "source": [
    "df_patient.gender.value_counts(normalize = True).plot(kind = 'bar')\n",
    "plt.title(\"The percentage of database by gender\")\n",
    "plt.xlabel(\"Gender\")\n",
    "plt.ylabel(\"Percentage of appointments\")"
   ]
  },
  {
   "cell_type": "markdown",
   "metadata": {},
   "source": [
    "Still almost the same values. The dataset contains 36% male patients and 64% female patients."
   ]
  },
  {
   "cell_type": "code",
   "execution_count": 14,
   "metadata": {
    "scrolled": false
   },
   "outputs": [
    {
     "data": {
      "text/plain": [
       "Text(0, 0.5, 'Percentage of Shows')"
      ]
     },
     "execution_count": 14,
     "metadata": {},
     "output_type": "execute_result"
    },
    {
     "data": {
      "image/png": "[encoded data removed]",
      "text/plain": [
       "<Figure size 432x288 with 1 Axes>"
      ]
     },
     "metadata": {
      "needs_background": "light"
     },
     "output_type": "display_data"
    }
   ],
   "source": [
    "## What gender tends to show up more\n",
    "\n",
    "colors = ('orange', 'blue')\n",
    "counts = df.groupby('no_show')['gender'].value_counts()\n",
    "percentage_plot(counts, 1, 'bar', colors)\n",
    "\n",
    "plt.legend()\n",
    "plt.title(\"The percentage of Show-up by gender\")\n",
    "plt.xlabel(\"Shows by Gender\")\n",
    "plt.ylabel(\"Percentage of Shows\")"
   ]
  },
  {
   "cell_type": "code",
   "execution_count": 237,
   "metadata": {},
   "outputs": [
    {
     "data": {
      "text/html": [
       "<div>\n",
       "<style scoped>\n",
       "    .dataframe tbody tr th:only-of-type {\n",
       "        vertical-align: middle;\n",
       "    }\n",
       "\n",
       "    .dataframe tbody tr th {\n",
       "        vertical-align: top;\n",
       "    }\n",
       "\n",
       "    .dataframe thead th {\n",
       "        text-align: right;\n",
       "    }\n",
       "</style>\n",
       "<table border=\"1\" class=\"dataframe\">\n",
       "  <thead>\n",
       "    <tr style=\"text-align: right;\">\n",
       "      <th>gender</th>\n",
       "      <th>F</th>\n",
       "      <th>M</th>\n",
       "    </tr>\n",
       "    <tr>\n",
       "      <th>no_show</th>\n",
       "      <th></th>\n",
       "      <th></th>\n",
       "    </tr>\n",
       "  </thead>\n",
       "  <tbody>\n",
       "    <tr>\n",
       "      <th>Show</th>\n",
       "      <td>79.688457</td>\n",
       "      <td>80.03619</td>\n",
       "    </tr>\n",
       "    <tr>\n",
       "      <th>No Show</th>\n",
       "      <td>20.311543</td>\n",
       "      <td>19.96381</td>\n",
       "    </tr>\n",
       "  </tbody>\n",
       "</table>\n",
       "</div>"
      ],
      "text/plain": [
       "gender           F         M\n",
       "no_show                     \n",
       "Show     79.688457  80.03619\n",
       "No Show  20.311543  19.96381"
      ]
     },
     "execution_count": 237,
     "metadata": {},
     "output_type": "execute_result"
    }
   ],
   "source": [
    "##As numbers are really close, I prefer to see them in a table\n",
    "gender_percent"
   ]
  },
  {
   "cell_type": "markdown",
   "metadata": {},
   "source": [
    "We can see that the proportion of males and female that show-up are similar. \n",
    "Approximately 80% of male/female showed-up on their appointments, while about 20% didn't show.\n"
   ]
  },
  {
   "cell_type": "markdown",
   "metadata": {},
   "source": [
    "**Conclusions**\n",
    "\n",
    "- The dataset contains more women than men. Approximately 65% of the appointments are from females and 35% are males. \n",
    "- Also, we seen that our database have more female patients than males. Approximately 64% of the patients are females.\n",
    "- We can see that the proportion of males and female that show-up are similar. Approximately 80% of male/female showed-up on their appointments, while about 20% didn't show.\n",
    "\n",
    "So, it seems that gender does not affect significatelly on the likelihood to show or not for their appointment \n"
   ]
  },
  {
   "cell_type": "markdown",
   "metadata": {},
   "source": [
    "### Q3. Is there a correlation between not receive a message and no-shown patients?"
   ]
  },
  {
   "cell_type": "code",
   "execution_count": 238,
   "metadata": {
    "scrolled": true
   },
   "outputs": [
    {
     "data": {
      "text/plain": [
       "0    0.678957\n",
       "1    0.321043\n",
       "Name: sms_received, dtype: float64"
      ]
     },
     "execution_count": 238,
     "metadata": {},
     "output_type": "execute_result"
    }
   ],
   "source": [
    "df.sms_received.value_counts(normalize = True)"
   ]
  },
  {
   "cell_type": "markdown",
   "metadata": {},
   "source": [
    "Approximately a 32% of the appointments in our database have received an SMS"
   ]
  },
  {
   "cell_type": "code",
   "execution_count": 20,
   "metadata": {
    "scrolled": false
   },
   "outputs": [
    {
     "data": {
      "text/plain": [
       "Text(0, 0.5, 'Percentage of Shows')"
      ]
     },
     "execution_count": 20,
     "metadata": {},
     "output_type": "execute_result"
    },
    {
     "data": {
      "image/png": "[encoded data removed]",
      "text/plain": [
       "<Figure size 432x288 with 1 Axes>"
      ]
     },
     "metadata": {
      "needs_background": "light"
     },
     "output_type": "display_data"
    }
   ],
   "source": [
    "## See no_show by SMS to show up more\n",
    "\n",
    "colors = ('grey', 'blue')\n",
    "counts = df.groupby('no_show')['sms_received'].value_counts()\n",
    "percentage_plot(counts, 1, 'bar', colors)\n",
    "\n",
    "plt.legend()\n",
    "plt.title(\"The percentage of Show-up by remember sms\")\n",
    "plt.xlabel(\"Reminder Message\")\n",
    "plt.ylabel(\"Percentage of Shows\")"
   ]
  },
  {
   "cell_type": "markdown",
   "metadata": {},
   "source": [
    "As the opposite as I would expected, appointments that received an SMS, tends to no show-up more than appointments who didn't received an SMS. \n",
    "Is that posible that SMS has been send to a particular appointments that tends to no show-up. Maybe appointments that have a greater delta time between beeing scheduled and the appointment day?"
   ]
  },
  {
   "cell_type": "markdown",
   "metadata": {},
   "source": [
    "**Conclusions**\n",
    "\n",
    "- Approximately a 32% of the appointments in our database have received an SMS. \n",
    "- Having received an SMS seems to decrease the posibility to show-up for an appointment, the opposite as I would expected. That does not seem coherent.\n",
    "\n",
    "\n",
    "So, it seems that receive an SMS does not affect significatelly on the likelihood to show or not for their appointment. I am going to work to understand if delta time has a correlation with the likelihood to show or not. "
   ]
  },
  {
   "cell_type": "markdown",
   "metadata": {},
   "source": [
    "### Q4. Is there a correlation between having a longer time between schedule and appointment day and the likelihood to not show?"
   ]
  },
  {
   "cell_type": "code",
   "execution_count": 247,
   "metadata": {
    "scrolled": true
   },
   "outputs": [
    {
     "data": {
      "text/plain": [
       "count    110521.000000\n",
       "mean         10.184345\n",
       "std          15.255153\n",
       "min           0.000000\n",
       "25%           0.000000\n",
       "50%           4.000000\n",
       "75%          15.000000\n",
       "max         179.000000\n",
       "Name: delta_time, dtype: float64"
      ]
     },
     "execution_count": 247,
     "metadata": {},
     "output_type": "execute_result"
    }
   ],
   "source": [
    "df.delta_time.describe()"
   ]
  },
  {
   "cell_type": "markdown",
   "metadata": {},
   "source": [
    "A large portion of the appointments were scheduled on the same day that the visit, since the min and 25% values are 0.00. Also we are going to consider the week before as another group, since the 50% values are less than 4.00.\n",
    "Also, there is at least one appointment scheduled 179 days before the visit, approximately 6 months in advance.\n",
    "\n",
    "Around 75% of the appointments were scheduled at most 3 weeks before."
   ]
  },
  {
   "cell_type": "code",
   "execution_count": 272,
   "metadata": {
    "scrolled": true
   },
   "outputs": [
    {
     "data": {
      "text/plain": [
       "count    39774.000000\n",
       "mean        25.207447\n",
       "std         16.856728\n",
       "min          8.000000\n",
       "25%         14.000000\n",
       "50%         21.000000\n",
       "75%         31.000000\n",
       "max        179.000000\n",
       "Name: delta_time, dtype: float64"
      ]
     },
     "execution_count": 272,
     "metadata": {},
     "output_type": "execute_result"
    }
   ],
   "source": [
    "df.query(\"delta_time >7\").delta_time.describe()"
   ]
  },
  {
   "cell_type": "markdown",
   "metadata": {},
   "source": [
    "I am gonna consider 2 weeks and 3 weeks, since the 25% and 50% values are 14.00 and 21.00 ."
   ]
  },
  {
   "cell_type": "code",
   "execution_count": 273,
   "metadata": {
    "scrolled": true
   },
   "outputs": [
    {
     "data": {
      "text/plain": [
       "count    18875.000000\n",
       "mean        37.504106\n",
       "std         17.095761\n",
       "min         22.000000\n",
       "25%         27.000000\n",
       "50%         32.000000\n",
       "75%         42.000000\n",
       "max        179.000000\n",
       "Name: delta_time, dtype: float64"
      ]
     },
     "execution_count": 273,
     "metadata": {},
     "output_type": "execute_result"
    }
   ],
   "source": [
    "df.query(\"delta_time >21\").delta_time.describe()"
   ]
  },
  {
   "cell_type": "markdown",
   "metadata": {},
   "source": [
    "Also, 2 months and last group until 6 months"
   ]
  },
  {
   "cell_type": "code",
   "execution_count": 294,
   "metadata": {
    "scrolled": true
   },
   "outputs": [
    {
     "data": {
      "text/plain": [
       "(-1, 0]      38562\n",
       "(0, 7]       32185\n",
       "(7, 14]      12025\n",
       "(21, 31]      9169\n",
       "(14, 21]      8874\n",
       "(31, 62]      7939\n",
       "(62, 180]     1767\n",
       "Name: delta_time_cat, dtype: int64"
      ]
     },
     "execution_count": 294,
     "metadata": {},
     "output_type": "execute_result"
    }
   ],
   "source": [
    "bin_edges = [-1, 0, 7, 14, 21, 31, 62, 180]\n",
    "bin_names = ['same_day', '1_week', '2_week', '3_week', '1_month', '2_month', '6_month']\n",
    "df.delta_time_cat = pd.cut(df.delta_time, bin_edges, bin_names)\n",
    "df.delta_time_cat.value_counts()\n"
   ]
  },
  {
   "cell_type": "code",
   "execution_count": 295,
   "metadata": {},
   "outputs": [
    {
     "data": {
      "text/plain": [
       "Text(0, 0.5, 'Percentage of Shows')"
      ]
     },
     "execution_count": 295,
     "metadata": {},
     "output_type": "execute_result"
    },
    {
     "data": {
      "image/png": "[encoded data removed]",
      "text/plain": [
       "<Figure size 432x288 with 1 Axes>"
      ]
     },
     "metadata": {
      "needs_background": "light"
     },
     "output_type": "display_data"
    }
   ],
   "source": [
    "## See no_show by SMS to show up more\n",
    "\n",
    "counts = df.groupby('no_show')['delta_time_cat'].value_counts()\n",
    "gender_percent = (counts / counts.groupby(level=1).sum() * 100).unstack()\n",
    "gender_percent.plot(kind = 'bar', alpha = .7)\n",
    "\n",
    "plt.legend()\n",
    "plt.title(\"The percentage of Show-up by time slot\")\n",
    "plt.xlabel(\"Scheduled Time in advance\")\n",
    "plt.ylabel(\"Percentage of Shows\")"
   ]
  },
  {
   "cell_type": "markdown",
   "metadata": {},
   "source": [
    "There is a consistent decrease in the percentage of appointments that showed up as the pre booked time increases."
   ]
  },
  {
   "cell_type": "markdown",
   "metadata": {},
   "source": [
    "**Conclusions**\n",
    "\n",
    "- More than a 25% of the appointments in our database were scheduled same date of the visit.\n",
    "- Approximately 75% of the appointments were scheduled at most 3 weeks before.\n",
    "- There is a consistent decrease in the percentage of appointments that showed up as the pre booked time increases.\n",
    "\n",
    "\n",
    "So, it seems that as time increases between dates affect significatelly on the likelihood to show or not for the appointment.\n"
   ]
  },
  {
   "cell_type": "markdown",
   "metadata": {},
   "source": [
    "### Q5. To whom SMS were sent? Is there a correlation between pre booked time and SMS receivers?"
   ]
  },
  {
   "cell_type": "code",
   "execution_count": 298,
   "metadata": {
    "scrolled": true
   },
   "outputs": [
    {
     "data": {
      "text/plain": [
       "count    35482.000000\n",
       "mean        19.016713\n",
       "std         16.978718\n",
       "min          3.000000\n",
       "25%          7.000000\n",
       "50%         14.000000\n",
       "75%         27.000000\n",
       "max        179.000000\n",
       "Name: delta_time, dtype: float64"
      ]
     },
     "execution_count": 298,
     "metadata": {},
     "output_type": "execute_result"
    }
   ],
   "source": [
    "df.query('sms_received == 1').delta_time.describe()"
   ]
  },
  {
   "cell_type": "markdown",
   "metadata": {},
   "source": [
    "Appointments who received SMS where the ones with a time lapse at least of 3 days between book day and the visit. "
   ]
  },
  {
   "cell_type": "code",
   "execution_count": 307,
   "metadata": {},
   "outputs": [
    {
     "data": {
      "text/plain": [
       "Text(0, 0.5, '% of appointments with/without SMS')"
      ]
     },
     "execution_count": 307,
     "metadata": {},
     "output_type": "execute_result"
    },
    {
     "data": {
      "image/png": "[encoded data removed]",
      "text/plain": [
       "<Figure size 432x288 with 1 Axes>"
      ]
     },
     "metadata": {
      "needs_background": "light"
     },
     "output_type": "display_data"
    }
   ],
   "source": [
    "## See no_show by SMS to show up more\n",
    "\n",
    "\n",
    "counts = df.groupby('sms_received')['delta_time_cat'].value_counts()\n",
    "gender_percent = (counts / counts.groupby(level=1).sum() * 100).unstack()\n",
    "gender_percent.plot(kind = 'bar', alpha = .7)\n",
    "\n",
    "plt.legend()\n",
    "plt.title(\"Percentage of Appointements with a received SMS by scheduled time\")\n",
    "plt.xlabel(\"Scheduled Time in advance\")\n",
    "plt.ylabel(\"% of appointments with/without SMS\")"
   ]
  },
  {
   "cell_type": "markdown",
   "metadata": {},
   "source": [
    "There is a consistent increase in the percentage of appointments that received an SMS as the pre booked time increases."
   ]
  },
  {
   "cell_type": "markdown",
   "metadata": {},
   "source": [
    "**Conclusions**\n",
    "\n",
    "- Appointments who received SMS where the ones with a time lapse at least of 3 days between book day and the visit. \n",
    "- There is a consistent decrease in the percentage of appointments that showed up as the pre booked time increases.\n",
    "\n",
    "\n",
    "So, it seems that SMS were sent to more appointments as time increases between dates. \n"
   ]
  },
  {
   "cell_type": "markdown",
   "metadata": {},
   "source": [
    "### Q6. Is there a correlation between the age and no-shown patients?"
   ]
  },
  {
   "cell_type": "code",
   "execution_count": 309,
   "metadata": {
    "scrolled": false
   },
   "outputs": [
    {
     "data": {
      "text/plain": [
       "count    110521.000000\n",
       "mean         37.089386\n",
       "std          23.109885\n",
       "min           0.000000\n",
       "25%          18.000000\n",
       "50%          37.000000\n",
       "75%          55.000000\n",
       "max         115.000000\n",
       "Name: age, dtype: float64"
      ]
     },
     "execution_count": 309,
     "metadata": {},
     "output_type": "execute_result"
    }
   ],
   "source": [
    "df.age.describe()"
   ]
  },
  {
   "cell_type": "code",
   "execution_count": 318,
   "metadata": {
    "scrolled": false
   },
   "outputs": [
    {
     "data": {
      "text/plain": [
       "0      3539\n",
       "1      2273\n",
       "52     1746\n",
       "49     1652\n",
       "53     1651\n",
       "       ... \n",
       "98        6\n",
       "115       5\n",
       "100       4\n",
       "102       2\n",
       "99        1\n",
       "Name: age, Length: 103, dtype: int64"
      ]
     },
     "execution_count": 318,
     "metadata": {},
     "output_type": "execute_result"
    }
   ],
   "source": [
    "df.age.value_counts()"
   ]
  },
  {
   "cell_type": "markdown",
   "metadata": {},
   "source": [
    "A large portion of the appointments were scheduled for patients between 0-2 years. Also, patients from 49 - 54 years."
   ]
  },
  {
   "cell_type": "code",
   "execution_count": 19,
   "metadata": {
    "scrolled": false
   },
   "outputs": [
    {
     "data": {
      "text/plain": [
       "Text(0, 0.5, 'Number of appointments')"
      ]
     },
     "execution_count": 19,
     "metadata": {},
     "output_type": "execute_result"
    },
    {
     "data": {
      "image/png": "[encoded data removed]",
      "text/plain": [
       "<Figure size 432x288 with 1 Axes>"
      ]
     },
     "metadata": {
      "needs_background": "light"
     },
     "output_type": "display_data"
    }
   ],
   "source": [
    "df.age.hist()\n",
    "plt.title(\"Number of appointments by age\")\n",
    "plt.xlabel(\"Age\")\n",
    "plt.ylabel(\"Number of appointments\")"
   ]
  },
  {
   "cell_type": "code",
   "execution_count": 18,
   "metadata": {},
   "outputs": [
    {
     "data": {
      "text/plain": [
       "Text(0, 0.5, 'Percentage of appointments that show')"
      ]
     },
     "execution_count": 18,
     "metadata": {},
     "output_type": "execute_result"
    },
    {
     "data": {
      "image/png": "[encoded data removed]",
      "text/plain": [
       "<Figure size 432x288 with 1 Axes>"
      ]
     },
     "metadata": {
      "needs_background": "light"
     },
     "output_type": "display_data"
    }
   ],
   "source": [
    "percent_shows = df.query('no_show == \"Show\"').groupby(['age']).size() / df.groupby(['age']).size() \n",
    "percent_shows.plot()\n",
    "plt.title(\"Number of appointments that showed-up by age\")\n",
    "plt.xlabel(\"Age\")\n",
    "plt.ylabel(\"Percentage of appointments that show\")"
   ]
  },
  {
   "cell_type": "markdown",
   "metadata": {},
   "source": [
    "It seems that the likelihood of shows is not affected much by the age. Ratio is high on minimun and maximum ages, in vulnerable poblation. After minimum ages it decreases a bit and after tends to increase slowly while age increases.\n",
    "Also , seems that we have some outliers with an age greater than 100.\n"
   ]
  },
  {
   "cell_type": "markdown",
   "metadata": {},
   "source": [
    "**Conclusion**\n",
    "\n",
    "- A large portion of the appointments were scheduled for patients between 0-2 years. Also, patients from 49 - 54 years.\n",
    "-  Ratio is high on minimun and maximum ages, in vulnerable poblation. After minimum ages it decreases a bit and after tends to increase slowly while age increases.\n",
    "- Also , seems that we have some outliers with an age greater than 100.\n",
    "\n",
    "\n",
    "\n",
    "So, it seems that the likelihood of shows is not affected much by the age."
   ]
  },
  {
   "cell_type": "markdown",
   "metadata": {
    "collapsed": true
   },
   "source": [
    "<a id='conclusions'></a>\n",
    "## Conclusions\n",
    "\n",
    "In the fist section, I renamed columns, changed datatypes, removed incorrect data with negative Age and scheduled appointments after the visit date. \n",
    " \n",
    "After this , with the database given we can make a lot more of investigations, but with the work done I can't make definetely conclusions about the features affecting the show likelihood for scheduled appointments. Let's summarize below:\n",
    "\n",
    "- Seems that people with more than 2 **disabilities** or disabilities 2,3,4 can affect on the likelihood of the patient to show or not for the appointment, but dataset has just a 2% of appointments that has a disability. \n",
    "\n",
    "- **Gender** does not affect significatelly on the likelihood to show-up, we can see similar behaviours on both genders, approximately 80% of appointments showed-up. \n",
    "\n",
    "- Approximately 65% of the appointments are from females and 35% are males. That makes sense, when we seen that our database have more female patients than males. Approximately 64% of the patients are females. We can conclude than in our database, females tend to book more appointments than males. \n",
    "- From our database results, receive an **SMS** does not affect significatelly on the likelihood to show or not for their appointment. As in our plots having received an SMS tells us that decrease the posibility to show-up for an appointment. So I went further to see who received those SMS. \n",
    "- Just a 32% of the appointments in our database have **received an SMS**. Appointments who received SMS where the ones with a **time lapse at least of 3 days** between book and visit dates. In addition, SMS were sent to more appointments as time increases between dates. So, were sent to people with higher probabilities to no-show. This clarifies the bullet above. \n",
    "-  As we seen in our database, time increases between book and visit dates affect significatelly on the likelihood to show or not for the appointment. More than a 25% of the appointments in our database were scheduled same date of the visit.\n",
    "- Seems that the likelihood of shows is **not affected much by the age**. But we can conclude than more \"vulnerable\" people, minimum and maximum ages, tend to show-up more than the rest of the appointments.\n",
    "\n",
    "\n",
    "\n",
    "**Limitations**\n",
    "\n",
    "- **Appointment Day** has no hour and minutes on the data while Scheduled Day has, this will give us a bit more information to analyze.\n",
    "- To make asumptions in **Handicap**, descriptions need to be specified, and we need more data, as now theres just a 2% of appointments with a disability.\n",
    "\n",
    " \n",
    "\n"
   ]
  }
 ],
 "metadata": {
  "kernelspec": {
   "display_name": "Python 3",
   "language": "python",
   "name": "python3"
  },
  "language_info": {
   "codemirror_mode": {
    "name": "ipython",
    "version": 3
   },
   "file_extension": ".py",
   "mimetype": "text/x-python",
   "name": "python",
   "nbconvert_exporter": "python",
   "pygments_lexer": "ipython3",
   "version": "3.8.5"
  }
 },
 "nbformat": 4,
 "nbformat_minor": 2
}
